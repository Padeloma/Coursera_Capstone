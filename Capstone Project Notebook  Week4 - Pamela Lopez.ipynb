{
 "cells": [
  {
   "cell_type": "markdown",
   "metadata": {},
   "source": [
    "# Capstone Project Notebook"
   ]
  },
  {
   "cell_type": "markdown",
   "metadata": {},
   "source": [
    "Author: Pamela Denisse Lopez Mata\n",
    "\n",
    "This notebook is for the \"Applied Data Science Capstone\" course activities of the IBM-Data-Science-Specialization.\n",
    "Every week the contect is going to be updated and reviewd by peers."
   ]
  },
  {
   "cell_type": "markdown",
   "metadata": {},
   "source": [
    "## Week 4: The Battle of Neighborhoods (Week 1)"
   ]
  },
  {
   "cell_type": "markdown",
   "metadata": {},
   "source": [
    "Now that you have been equipped with the skills and the tools to use location data to explore a geographical location, over the course of two weeks, you will have the opportunity to be as creative as you want and come up with an idea to leverage the Foursquare location data to explore or compare neighborhoods or cities of your choice or to come up with a problem that you can use the Foursquare location data to solve. If you cannot think of an idea or a problem, here are some ideas to get you started:\n",
    "\n",
    "\n",
    "    a) In Module 3, we explored New York City and the city of Toronto and segmented and clustered their neighborhoods. Both cities are very diverse and are the financial capitals of their respective countries. One interesting idea would be to compare the neighborhoods of the two cities and determine how similar or dissimilar they are. Is New York City more like Toronto or Paris or some other multicultural city? I will leave it to you to refine this idea.\n",
    "\n",
    "\n",
    "    b) In a city of your choice, if someone is looking to open a restaurant, where would you recommend that they open it? Similarly, if a contractor is trying to start their own business, where would you recommend that they setup their office?\n",
    "\n",
    "\n",
    "These are just a couple of many ideas and problems that can be solved using location data in addition to other datasets. No matter what you decide to do, make sure to provide sufficient justification of why you think what you want to do or solve is important and why would a client or a group of people be interested in your project."
   ]
  },
  {
   "cell_type": "markdown",
   "metadata": {},
   "source": [
    "##### Review criteria"
   ]
  },
  {
   "cell_type": "markdown",
   "metadata": {},
   "source": [
    "This capstone project will be graded by your peers. This capstone project is worth 70% of your total grade. The project will be completed over the course of 2 weeks. Week 1 submissions will be worth 30% whereas week 2 submissions will be worth 40% of your total grade.\n",
    "\n",
    "For this week, you will required to submit the following:\n",
    "\n",
    "    1. A description of the problem and a discussion of the background. (15 marks)\n",
    "    2. A description of the data and how it will be used to solve the problem. (15 marks)"
   ]
  },
  {
   "cell_type": "markdown",
   "metadata": {},
   "source": [
    "### Answer:"
   ]
  },
  {
   "cell_type": "markdown",
   "metadata": {},
   "source": [
    "###### 1. Description of the problem and a discussion of the background."
   ]
  },
  {
   "cell_type": "markdown",
   "metadata": {},
   "source": [
    "Earthquake is a term used to describe both sudden slip on a fault, and the resulting ground shaking and radiated seismic energy caused by the slip, or by volcanic or magmatic activity, or other sudden stress changes in the earth. (1) \n",
    "\n",
    "Earthquake hazard is anything associated with an earthquake that may affect the normal activities of people. This includes surface faulting, ground shaking, landslide, liquefaction, tectonic deformation, tsunamis, and seiches. (2)\n",
    "\n",
    "Earthquake risk is the probable building damage, and number of people that are expected to be hurt or killed if a likely earthquake on a particular fault occurs. (3)\n",
    "\n",
    "When you plan to invest in cities located along the Pacific Ocean, these are terms that should be seriously considered before making a decision, especially in cities with as much economic, tourist and cultural relevance as California. However, not only investors are interested in this issue, the government itself is concerned with mitigating as much as possible the greatest amount of risk under which its population is.\n",
    "\n",
    "Considering both the government and investors and their need to have an updated knowledge of the latent risk of California, this work focuses on determining the risk under which the most important establishments are located in some of the most important areas of California."
   ]
  },
  {
   "cell_type": "markdown",
   "metadata": {},
   "source": [
    "References:\n",
    "\n",
    "1. https://earthquake.usgs.gov/learn/glossary/?term=earthquake\n",
    "2. https://earthquake.usgs.gov/learn/glossary/?term=earthquake%20hazard\n",
    "3. https://earthquake.usgs.gov/learn/glossary/?term=earthquake%20risk"
   ]
  },
  {
   "cell_type": "markdown",
   "metadata": {},
   "source": [
    "###### 2. description of the data and how it will be used to solve the problem."
   ]
  },
  {
   "cell_type": "markdown",
   "metadata": {},
   "source": [
    "In order to achieve the analysis proposed, it will be necessary to consult the earthquake databases that the state institutions of the state of California have, such as the U.S. Geological Survey (USGS) portal of USGS Earthquake Hazards Program (https://earthquake.usgs.gov/data/data.php) or the Southern California Earthquake Data Center (SCEDC) (https://scedc.caltech.edu/about/index.html) for example. This information on earthquakes and risk areas could spatially locate the places of interest and analyze any would be at greater risk.\n",
    "\n",
    "In addition, from Foursquare the information corresponding to the most visited places it can be consulted, and compared to seismic risk zones."
   ]
  },
  {
   "cell_type": "code",
   "execution_count": null,
   "metadata": {},
   "outputs": [],
   "source": []
  }
 ],
 "metadata": {
  "kernelspec": {
   "display_name": "Python 3",
   "language": "python",
   "name": "python3"
  },
  "language_info": {
   "codemirror_mode": {
    "name": "ipython",
    "version": 3
   },
   "file_extension": ".py",
   "mimetype": "text/x-python",
   "name": "python",
   "nbconvert_exporter": "python",
   "pygments_lexer": "ipython3",
   "version": "3.7.0"
  }
 },
 "nbformat": 4,
 "nbformat_minor": 2
}
